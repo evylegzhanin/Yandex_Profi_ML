{
  "nbformat": 4,
  "nbformat_minor": 0,
  "metadata": {
    "colab": {
      "name": "Final_Solution_with_all_models.ipynb",
      "provenance": [],
      "collapsed_sections": [],
      "toc_visible": true,
      "include_colab_link": true
    },
    "kernelspec": {
      "name": "python3",
      "display_name": "Python 3"
    }
  },
  "cells": [
    {
      "cell_type": "markdown",
      "metadata": {
        "id": "view-in-github",
        "colab_type": "text"
      },
      "source": [
        "<a href=\"https://colab.research.google.com/github/evylegzhanin/Yandex_Profi_ML/blob/main/Final_Solution_with_all_models.ipynb\" target=\"_parent\"><img src=\"https://colab.research.google.com/assets/colab-badge.svg\" alt=\"Open In Colab\"/></a>"
      ]
    },
    {
      "cell_type": "markdown",
      "metadata": {
        "id": "-BbcOAUTMT9W"
      },
      "source": [
        "# **Введение.** \n",
        "\n",
        "\n",
        "\n",
        "\n",
        "\n"
      ]
    },
    {
      "cell_type": "markdown",
      "metadata": {
        "id": "6PSnjmgXOUPW"
      },
      "source": [
        "Данный ноутбук содержит все подходы решений, которые были использованы при решении кейса в полуфинале олимпиады \"Машинное обучение\". "
      ]
    },
    {
      "cell_type": "markdown",
      "metadata": {
        "id": "1eURCtpjN_Ik"
      },
      "source": [
        "**Содержание (по секциям):**\n",
        "1.   Исследование тренировочного и тестового датасетов\n",
        "2.   Кластеризация и усреднение\n",
        "3.   Кригинг\n",
        "4.   Генерация новых признаков и использование классических методов\n",
        "5.   Stacking (с помощью мета-модели или модели второго уровня)\n",
        "6.   Регрессионный кригинг\n",
        "7.   Простейший stacking (усреднение результатов различных моделей)"
      ]
    },
    {
      "cell_type": "markdown",
      "metadata": {
        "id": "vnU_JTu2Odfp"
      },
      "source": [
        "# 1. Исследование исходных данных"
      ]
    },
    {
      "cell_type": "markdown",
      "metadata": {
        "id": "Mtkz6Ck8QLBk"
      },
      "source": [
        "Подключение необходимых библиотек:"
      ]
    },
    {
      "cell_type": "code",
      "metadata": {
        "id": "kpmsVBIzOixq"
      },
      "source": [
        "import pandas as pd\n",
        "import matplotlib.pyplot as plt\n",
        "import seaborn as sns\n",
        "import numpy as np\n",
        "from scipy import stats\n",
        "from scipy.stats import norm"
      ],
      "execution_count": null,
      "outputs": []
    },
    {
      "cell_type": "markdown",
      "metadata": {
        "id": "pifkpkYtQS5N"
      },
      "source": [
        "Чтение тренировочного и тестового датасетов из файлов csv."
      ]
    },
    {
      "cell_type": "code",
      "metadata": {
        "id": "B-g8JniyQSJg"
      },
      "source": [
        "train = pd.read_csv('Training_wells.csv')\n",
        "test = pd.read_csv('Empty_part.csv')"
      ],
      "execution_count": null,
      "outputs": []
    },
    {
      "cell_type": "markdown",
      "metadata": {
        "id": "cEyBlGpdRDOz"
      },
      "source": [
        "Просмотр основной информации о датасетах."
      ]
    },
    {
      "cell_type": "code",
      "metadata": {
        "colab": {
          "base_uri": "https://localhost:8080/"
        },
        "id": "ojEQuGQlRH8w",
        "outputId": "5d7e5744-31e9-4e94-9ba2-cc020711d5d0"
      },
      "source": [
        "print('Train_info')\n",
        "print(train.info())\n",
        "print('='*50)\n",
        "print('Test_info')\n",
        "print(test.info())\n",
        "print('='*50)\n",
        "print('Train_describe')\n",
        "print(train.describe())\n",
        "print('='*50)\n",
        "print('Test_describe')\n",
        "print(test.describe())"
      ],
      "execution_count": null,
      "outputs": [
        {
          "output_type": "stream",
          "text": [
            "Train_info\n",
            "<class 'pandas.core.frame.DataFrame'>\n",
            "RangeIndex: 138 entries, 0 to 137\n",
            "Data columns (total 4 columns):\n",
            " #   Column  Non-Null Count  Dtype  \n",
            "---  ------  --------------  -----  \n",
            " 0   Well    138 non-null    object \n",
            " 1   X       138 non-null    int64  \n",
            " 2   Y       138 non-null    int64  \n",
            " 3   NTG     138 non-null    float64\n",
            "dtypes: float64(1), int64(2), object(1)\n",
            "memory usage: 4.4+ KB\n",
            "None\n",
            "==================================================\n",
            "Test_info\n",
            "<class 'pandas.core.frame.DataFrame'>\n",
            "RangeIndex: 1242 entries, 0 to 1241\n",
            "Data columns (total 3 columns):\n",
            " #   Column  Non-Null Count  Dtype \n",
            "---  ------  --------------  ----- \n",
            " 0   Well    1242 non-null   object\n",
            " 1   X       1242 non-null   int64 \n",
            " 2   Y       1242 non-null   int64 \n",
            "dtypes: int64(2), object(1)\n",
            "memory usage: 29.2+ KB\n",
            "None\n",
            "==================================================\n",
            "Train_describe\n",
            "                X           Y         NTG\n",
            "count  138.000000  138.000000  138.000000\n",
            "mean   223.195652  916.630435    0.325720\n",
            "std     13.590926    8.765456    0.072432\n",
            "min    201.000000  901.000000    0.177000\n",
            "25%    211.000000  909.000000    0.270175\n",
            "50%    222.500000  917.000000    0.325900\n",
            "75%    236.500000  924.000000    0.377475\n",
            "max    246.000000  930.000000    0.562500\n",
            "==================================================\n",
            "Test_describe\n",
            "                 X            Y\n",
            "count  1242.000000  1242.000000\n",
            "mean    223.533816   915.374396\n",
            "std      13.250974     8.641061\n",
            "min     201.000000   901.000000\n",
            "25%     212.000000   908.000000\n",
            "50%     224.000000   915.000000\n",
            "75%     235.000000   923.000000\n",
            "max     246.000000   930.000000\n"
          ],
          "name": "stdout"
        }
      ]
    },
    {
      "cell_type": "markdown",
      "metadata": {
        "id": "_jLv_rOyR1m4"
      },
      "source": [
        "Из двух датасетов уберем столбец \"Well\"."
      ]
    },
    {
      "cell_type": "code",
      "metadata": {
        "id": "FbVoBbHfSFGv"
      },
      "source": [
        "train.drop('Well', axis=1, inplace=True)\n",
        "test.drop('Well', axis=1, inplace=True)"
      ],
      "execution_count": null,
      "outputs": []
    },
    {
      "cell_type": "markdown",
      "metadata": {
        "id": "8nAAt7bhSMZa"
      },
      "source": [
        "Проверим корреляцию между признаками (\"X\", \"Y\") и целевой переменной (\"NTG\")."
      ]
    },
    {
      "cell_type": "code",
      "metadata": {
        "colab": {
          "base_uri": "https://localhost:8080/",
          "height": 554
        },
        "id": "NjIScn_4SSpy",
        "outputId": "88860135-aed6-4e8d-bd7a-21cd132b381e"
      },
      "source": [
        "corrmat = train.corr()\n",
        "plt.subplots(figsize=(12,9))\n",
        "sns.heatmap(corrmat, vmax=0.9, square=True)"
      ],
      "execution_count": null,
      "outputs": [
        {
          "output_type": "execute_result",
          "data": {
            "text/plain": [
              "<matplotlib.axes._subplots.AxesSubplot at 0x7fc58a0ba290>"
            ]
          },
          "metadata": {
            "tags": []
          },
          "execution_count": 6
        },
        {
          "output_type": "display_data",
          "data": {
            "image/png": "[encoded data removed]",
            "text/plain": [
              "<Figure size 864x648 with 2 Axes>"
            ]
          },
          "metadata": {
            "tags": [],
            "needs_background": "light"
          }
        }
      ]
    },
    {
      "cell_type": "markdown",
      "metadata": {
        "id": "pXSRGQh6SbH6"
      },
      "source": [
        "Предпологая, что признаки \"X\" и \"Y\" являются координатами скважин, построим карту скважин с известным параметром \"NTG\" (красный цвет) и скважин, которые предстоит исследовать (синиц цвет). "
      ]
    },
    {
      "cell_type": "code",
      "metadata": {
        "colab": {
          "base_uri": "https://localhost:8080/",
          "height": 279
        },
        "id": "vPXdusbjSqEq",
        "outputId": "6ccf45a4-23de-4b56-8c19-6868b1c25a5d"
      },
      "source": [
        "fig, ax = plt.subplots()\n",
        "ax.scatter(x = train['X'], y = train['Y'], c='r')\n",
        "ax.scatter(x = test['X'], y = test['Y'], c='b')\n",
        "plt.ylabel('Y')\n",
        "plt.xlabel('X')\n",
        "plt.show()"
      ],
      "execution_count": null,
      "outputs": [
        {
          "output_type": "display_data",
          "data": {
            "image/png": "[encoded data removed]",
            "text/plain": [
              "<Figure size 432x288 with 1 Axes>"
            ]
          },
          "metadata": {
            "tags": [],
            "needs_background": "light"
          }
        }
      ]
    },
    {
      "cell_type": "markdown",
      "metadata": {
        "id": "vALP9aYlTRkG"
      },
      "source": [
        "Построим тепловую карту по известным значениям целевой переменной. "
      ]
    },
    {
      "cell_type": "code",
      "metadata": {
        "colab": {
          "base_uri": "https://localhost:8080/",
          "height": 554
        },
        "id": "6JtB3nyqTXKu",
        "outputId": "86969b49-1f82-497b-b18c-14b56985bdcc"
      },
      "source": [
        "fig, ax = plt.subplots(1, 1, figsize=(9, 9))\n",
        "art = ax.scatter(train.X,train.Y, s=60, c=train.NTG, cmap='plasma')\n",
        "plt.colorbar(art)"
      ],
      "execution_count": null,
      "outputs": [
        {
          "output_type": "execute_result",
          "data": {
            "text/plain": [
              "<matplotlib.colorbar.Colorbar at 0x7fc580630150>"
            ]
          },
          "metadata": {
            "tags": []
          },
          "execution_count": 8
        },
        {
          "output_type": "display_data",
          "data": {
            "image/png": "[encoded data removed]",
            "text/plain": [
              "<Figure size 648x648 with 2 Axes>"
            ]
          },
          "metadata": {
            "tags": [],
            "needs_background": "light"
          }
        }
      ]
    },
    {
      "cell_type": "markdown",
      "metadata": {
        "id": "jESow5ZJTq2o"
      },
      "source": [
        "По карте можно сделать предположение о том, что существуют наборы близкорасположенных скважин с примерно одинаковым значением целевого параметра (песчанистости). "
      ]
    },
    {
      "cell_type": "markdown",
      "metadata": {
        "id": "n8O5S3qjUVEV"
      },
      "source": [
        "Проверим имеет ли целевой параметр нормальное распределение."
      ]
    },
    {
      "cell_type": "code",
      "metadata": {
        "colab": {
          "base_uri": "https://localhost:8080/",
          "height": 350
        },
        "id": "rcyerzMfUq3W",
        "outputId": "5b70e37f-a9a4-421b-b9ac-465675fb8522"
      },
      "source": [
        "sns.distplot(train['NTG'] , fit=norm, bins=14)"
      ],
      "execution_count": null,
      "outputs": [
        {
          "output_type": "stream",
          "text": [
            "/usr/local/lib/python3.7/dist-packages/seaborn/distributions.py:2557: FutureWarning: `distplot` is a deprecated function and will be removed in a future version. Please adapt your code to use either `displot` (a figure-level function with similar flexibility) or `histplot` (an axes-level function for histograms).\n",
            "  warnings.warn(msg, FutureWarning)\n"
          ],
          "name": "stderr"
        },
        {
          "output_type": "execute_result",
          "data": {
            "text/plain": [
              "<matplotlib.axes._subplots.AxesSubplot at 0x7fcaf8d52310>"
            ]
          },
          "metadata": {
            "tags": []
          },
          "execution_count": 20
        },
        {
          "output_type": "display_data",
          "data": {
            "image/png": "[encoded data removed]",
            "text/plain": [
              "<Figure size 432x288 with 1 Axes>"
            ]
          },
          "metadata": {
            "tags": [],
            "needs_background": "light"
          }
        }
      ]
    },
    {
      "cell_type": "code",
      "metadata": {
        "colab": {
          "base_uri": "https://localhost:8080/",
          "height": 295
        },
        "id": "lNc8re-5UxLG",
        "outputId": "65de31bf-6743-4656-cdc7-eb9c98e88877"
      },
      "source": [
        "fig = plt.figure()\n",
        "res = stats.probplot(train['NTG'], plot=plt)\n",
        "plt.show()"
      ],
      "execution_count": null,
      "outputs": [
        {
          "output_type": "display_data",
          "data": {
            "image/png": "[encoded data removed]",
            "text/plain": [
              "<Figure size 432x288 with 1 Axes>"
            ]
          },
          "metadata": {
            "tags": [],
            "needs_background": "light"
          }
        }
      ]
    },
    {
      "cell_type": "markdown",
      "metadata": {
        "id": "jRt0sRtpU1kP"
      },
      "source": [
        "Можно сделать вывод, что распределение целевого параметра является близким к нормальному."
      ]
    },
    {
      "cell_type": "markdown",
      "metadata": {
        "id": "MsGxpHDnVDiz"
      },
      "source": [
        "На этом исследование исходных данных заканчивается и переходим к проверке отдельных гипотез. "
      ]
    },
    {
      "cell_type": "markdown",
      "metadata": {
        "id": "r1qfsms2VQRS"
      },
      "source": [
        "Параметры моделей подбирались с помощью кросс-валидации, а также в отдельных случаях на сгенерированной вручную валидационной выборке. Некоторые модели работают на основе базовых параметров (по-умолчанию). Ниже представлены подходы решений и модели даны с уже подобранными параметрами.  "
      ]
    },
    {
      "cell_type": "markdown",
      "metadata": {
        "id": "o3M1uV17VNWC"
      },
      "source": [
        "# 2. Кластеризация и усреднение"
      ]
    },
    {
      "cell_type": "markdown",
      "metadata": {
        "id": "NWMYKcJ8OlbR"
      },
      "source": [
        "Суть метода заключается в разбиении исходного датасета на кластеры по координатам скважин. Используемый метод кластеризации - K-means. "
      ]
    },
    {
      "cell_type": "markdown",
      "metadata": {
        "id": "rgDpm-WAPF3C"
      },
      "source": [
        "Подключение библиотек:"
      ]
    },
    {
      "cell_type": "code",
      "metadata": {
        "id": "jMmLILdpWHcH"
      },
      "source": [
        "from sklearn.cluster import KMeans\n",
        "import pandas as pd"
      ],
      "execution_count": null,
      "outputs": []
    },
    {
      "cell_type": "markdown",
      "metadata": {
        "id": "ZhGoXDpzXIYD"
      },
      "source": [
        "Чтение данных и исключение первого столбца (\"Well\" - имя скважины, является неинформативным признаком)."
      ]
    },
    {
      "cell_type": "code",
      "metadata": {
        "id": "z9pd0ekeXKVn"
      },
      "source": [
        "train = pd.read_csv('Training_wells.csv')\n",
        "test = pd.read_csv('Empty_part.csv')\n",
        "train.drop('Well', axis=1, inplace=True)\n",
        "test.drop('Well', axis=1, inplace=True)"
      ],
      "execution_count": null,
      "outputs": []
    },
    {
      "cell_type": "markdown",
      "metadata": {
        "id": "EfDIotFuW6eE"
      },
      "source": [
        "Разбиение данных на 9 классов."
      ]
    },
    {
      "cell_type": "code",
      "metadata": {
        "colab": {
          "base_uri": "https://localhost:8080/",
          "height": 367
        },
        "id": "BbRCtfEpXAjl",
        "outputId": "90d7e345-ddaf-40d6-c553-2204d1312c40"
      },
      "source": [
        "n_train = train.shape[0]\n",
        "n_test = test.shape[0]\n",
        "clust_dataset = pd.concat((train, test))\n",
        "kmeans = KMeans(n_clusters=9, init='k-means++', max_iter=300, n_init=10, random_state=0)\n",
        "clust_dataset['Class'] = kmeans.fit_predict(clust_dataset[['X', 'Y']])\n",
        "plt.scatter(clust_dataset['X'], clust_dataset['Y'])\n",
        "plt.scatter(kmeans.cluster_centers_[:, 0], kmeans.cluster_centers_[:, 1], s=300, c='red')\n",
        "plt.show()\n",
        "print(clust_dataset.head())"
      ],
      "execution_count": null,
      "outputs": [
        {
          "output_type": "display_data",
          "data": {
            "image/png": "[encoded data removed]",
            "text/plain": [
              "<Figure size 432x288 with 1 Axes>"
            ]
          },
          "metadata": {
            "tags": [],
            "needs_background": "light"
          }
        },
        {
          "output_type": "stream",
          "text": [
            "     X    Y     NTG  Class\n",
            "0  201  907  0.2006      0\n",
            "1  201  914  0.3624      0\n",
            "2  201  924  0.4381      5\n",
            "3  202  922  0.4289      5\n",
            "4  202  925  0.4021      5\n"
          ],
          "name": "stdout"
        }
      ]
    },
    {
      "cell_type": "markdown",
      "metadata": {
        "id": "-AmCnUeBXXMu"
      },
      "source": [
        "Усреднение значений песчанистости внутри каждого класса."
      ]
    },
    {
      "cell_type": "code",
      "metadata": {
        "id": "vp02WFX2Xa89"
      },
      "source": [
        "clust_dataset[\"NTG\"] = clust_dataset.groupby(\"Class\")[\"NTG\"].transform(lambda x: x.fillna(x.mean()))"
      ],
      "execution_count": null,
      "outputs": []
    },
    {
      "cell_type": "markdown",
      "metadata": {
        "id": "Vo4dx9X8XirE"
      },
      "source": [
        "Проверим вид полученного датасета."
      ]
    },
    {
      "cell_type": "code",
      "metadata": {
        "colab": {
          "base_uri": "https://localhost:8080/"
        },
        "id": "NCCInJ8aXlfM",
        "outputId": "26604d87-2692-4f8f-8b03-93915f1941b4"
      },
      "source": [
        "print(clust_dataset)"
      ],
      "execution_count": null,
      "outputs": [
        {
          "output_type": "stream",
          "text": [
            "        X    Y       NTG  Class\n",
            "0     201  907  0.200600      0\n",
            "1     201  914  0.362400      0\n",
            "2     201  924  0.438100      5\n",
            "3     202  922  0.428900      5\n",
            "4     202  925  0.402100      5\n",
            "...   ...  ...       ...    ...\n",
            "1237  246  926  0.300853      2\n",
            "1238  246  927  0.300853      2\n",
            "1239  246  928  0.300853      2\n",
            "1240  246  929  0.300853      2\n",
            "1241  246  930  0.300853      2\n",
            "\n",
            "[1380 rows x 4 columns]\n"
          ],
          "name": "stdout"
        }
      ]
    },
    {
      "cell_type": "markdown",
      "metadata": {
        "id": "ejpOtDTXX_Yy"
      },
      "source": [
        "Получение и присвоение значений целевой переменной для тестового датасета. "
      ]
    },
    {
      "cell_type": "code",
      "metadata": {
        "id": "EjSN2E73WNME"
      },
      "source": [
        "NTG = clust_dataset[\"NTG\"][n_train:]\n",
        "test['NTG'] = NTG"
      ],
      "execution_count": null,
      "outputs": []
    },
    {
      "cell_type": "markdown",
      "metadata": {
        "id": "9Krxf73lYUk9"
      },
      "source": [
        "Проверим полученный тестовый датасет."
      ]
    },
    {
      "cell_type": "code",
      "metadata": {
        "colab": {
          "base_uri": "https://localhost:8080/"
        },
        "id": "79NugFbKYDZ-",
        "outputId": "3edfea85-021f-47b5-8df9-8d919df9f970"
      },
      "source": [
        "print(test.info())"
      ],
      "execution_count": null,
      "outputs": [
        {
          "output_type": "stream",
          "text": [
            "<class 'pandas.core.frame.DataFrame'>\n",
            "RangeIndex: 1242 entries, 0 to 1241\n",
            "Data columns (total 3 columns):\n",
            " #   Column  Non-Null Count  Dtype  \n",
            "---  ------  --------------  -----  \n",
            " 0   X       1242 non-null   int64  \n",
            " 1   Y       1242 non-null   int64  \n",
            " 2   NTG     1242 non-null   float64\n",
            "dtypes: float64(1), int64(2)\n",
            "memory usage: 29.2 KB\n",
            "None\n"
          ],
          "name": "stdout"
        }
      ]
    },
    {
      "cell_type": "markdown",
      "metadata": {
        "id": "UaN7RzhiYyA2"
      },
      "source": [
        "Построение тепловой карты всех скважин с учетом предсказанных значений песчанистости. \n"
      ]
    },
    {
      "cell_type": "code",
      "metadata": {
        "colab": {
          "base_uri": "https://localhost:8080/",
          "height": 490
        },
        "id": "MhH7rTG_YxnR",
        "outputId": "b191af38-8c52-4333-f49a-1c1443bac0d5"
      },
      "source": [
        "plt.subplots(figsize=(10,6))\n",
        "print(test.head())\n",
        "full_data = pd.concat((train, test), ignore_index=True)\n",
        "full_data = full_data.pivot(\"Y\", \"X\", \"NTG\")\n",
        "ax = sns.heatmap(full_data, cmap='viridis')\n",
        "ax.invert_yaxis()"
      ],
      "execution_count": null,
      "outputs": [
        {
          "output_type": "stream",
          "text": [
            "     X    Y       NTG\n",
            "0  201  901  0.284007\n",
            "1  201  902  0.284007\n",
            "2  201  903  0.284007\n",
            "3  201  904  0.284007\n",
            "4  201  905  0.284007\n"
          ],
          "name": "stdout"
        },
        {
          "output_type": "display_data",
          "data": {
            "image/png": "[encoded data removed]",
            "text/plain": [
              "<Figure size 720x432 with 2 Axes>"
            ]
          },
          "metadata": {
            "tags": [],
            "needs_background": "light"
          }
        }
      ]
    },
    {
      "cell_type": "markdown",
      "metadata": {
        "id": "JhoL3DMqZCNf"
      },
      "source": [
        "Сохранение датасета для загрузки на проверку. (С помощью данной секции был получен файл для первой проверки (submission1))"
      ]
    },
    {
      "cell_type": "code",
      "metadata": {
        "id": "BuJVpgAKZHGy"
      },
      "source": [
        "# test.to_csv('submission1.csv', index=False)\n",
        "# check = pd.read_csv('submission1.csv')\n",
        "# print(check.head())\n",
        "# print(test.head())\n",
        "# print(test1.head())"
      ],
      "execution_count": null,
      "outputs": []
    },
    {
      "cell_type": "markdown",
      "metadata": {
        "id": "YXPaQmyaZ-TZ"
      },
      "source": [
        "# 3. Кригинг"
      ]
    },
    {
      "cell_type": "markdown",
      "metadata": {
        "id": "nOEljOSnaY9c"
      },
      "source": [
        "Кригинг - геостатистический метод интерполяции, который использует статистические отношения между измеренными точками. "
      ]
    },
    {
      "cell_type": "markdown",
      "metadata": {
        "id": "c95JgTCdb87y"
      },
      "source": [
        "При решении кейса с помощью кригинга использовались пакеты PyKrige и GSTools."
      ]
    },
    {
      "cell_type": "markdown",
      "metadata": {
        "id": "j-TUnqKIclhP"
      },
      "source": [
        "Установка пакетов для реализации кригинга."
      ]
    },
    {
      "cell_type": "markdown",
      "metadata": {
        "id": "e69mMHvQd7SL"
      },
      "source": [
        "Перед запуском скрипта нужно установить pykrige (pip install pykrige)"
      ]
    },
    {
      "cell_type": "code",
      "metadata": {
        "id": "vjPu2gXAcYsh"
      },
      "source": [
        "# pip install pykrige"
      ],
      "execution_count": null,
      "outputs": []
    },
    {
      "cell_type": "markdown",
      "metadata": {
        "id": "EDJTx7GeeAxV"
      },
      "source": [
        "Перед запуском скрипта нужно установить gstools (pip install gstools)"
      ]
    },
    {
      "cell_type": "code",
      "metadata": {
        "id": "tdsgOwNzdtNl"
      },
      "source": [
        "# pip install gstools"
      ],
      "execution_count": null,
      "outputs": []
    },
    {
      "cell_type": "markdown",
      "metadata": {
        "id": "88kyxnXbblWS"
      },
      "source": [
        "Подключение библиотек:"
      ]
    },
    {
      "cell_type": "code",
      "metadata": {
        "id": "VmSnCW9qbn3d"
      },
      "source": [
        "import numpy as np\n",
        "import pandas as pd\n",
        "import matplotlib.pyplot as plt\n",
        "import numpy as np\n",
        "import pykrige.kriging_tools as kt\n",
        "from pykrige.ok import OrdinaryKriging\n",
        "from pykrige.uk import UniversalKriging\n",
        "import seaborn as sns\n",
        "import gstools as gs\n",
        "import matplotlib.pyplot as plt"
      ],
      "execution_count": null,
      "outputs": []
    },
    {
      "cell_type": "markdown",
      "metadata": {
        "id": "-GVI-IW4eJnl"
      },
      "source": [
        "Чтение данных."
      ]
    },
    {
      "cell_type": "code",
      "metadata": {
        "id": "FUnrMwr-eL8w"
      },
      "source": [
        "train1 = pd.read_csv('Training_wells.csv')\n",
        "train = train1.drop('Well', axis=1)\n",
        "train = np.array(train)\n",
        "test = pd.read_csv('Empty_part.csv')\n",
        "test_copy = test.copy()"
      ],
      "execution_count": null,
      "outputs": []
    },
    {
      "cell_type": "markdown",
      "metadata": {
        "id": "YibDIDxXehCq"
      },
      "source": [
        "Зададим сетку всех возможных значений X и Y."
      ]
    },
    {
      "cell_type": "code",
      "metadata": {
        "id": "jeBX6b51ek7m"
      },
      "source": [
        "gridx = np.arange(201, 247, 1)\n",
        "gridy = np.arange(901, 931, 1)"
      ],
      "execution_count": null,
      "outputs": []
    },
    {
      "cell_type": "markdown",
      "metadata": {
        "id": "GPKPjAEuepiA"
      },
      "source": [
        "Из пакета GSTools возьмем ковариационную модель (В зависимости от ковариационной модели получается разный результат и было загружено 6 результатов)"
      ]
    },
    {
      "cell_type": "code",
      "metadata": {
        "id": "3Xh3GCj3eIi_"
      },
      "source": [
        "cov_model = gs.Gaussian(dim=2, len_scale=4, anis=2, angles=-0.5, var=0.5, nugget=0.1) # Submission2\n",
        "# cov_model = gs.Exponential(dim=2, len_scale=4, anis=1, angles=0.2, var=1, nugget=0.01) # Submission3\n",
        "# cov_model = gs.Spherical(dim=2, len_scale=9, anis=1, angles=0.2, var=1, nugget=0.02) # Submission4\n",
        "# cov_model = gs.Gaussian(dim=2, len_scale=5, anis=1, angles=0.2, var=1, nugget=0.03) # Submission5\n",
        "# cov_model = gs.Gaussian(dim=2, len_scale=5, anis=1, angles=0.2, var=1, nugget=0.03) # Submission6 (UniversalKriging)\n"
      ],
      "execution_count": null,
      "outputs": []
    },
    {
      "cell_type": "markdown",
      "metadata": {
        "id": "gAVq-6xoeycJ"
      },
      "source": [
        "Интерполируем тренировочные данные с помощью кригинга (UniversalKriging/OrdinaryKriging) и получим значения песчанистости для тестового датасета. "
      ]
    },
    {
      "cell_type": "code",
      "metadata": {
        "id": "e8Gkv4lKaDFk"
      },
      "source": [
        "OK1 = OrdinaryKriging(train[:, 0], train[:, 1], train[:, 2], cov_model)\n",
        "result, ss1 = OK1.execute(\"grid\", np.float64(gridx), np.float64(gridy))\n",
        "\n",
        "test['NTG'] = np.nan\n",
        "for i in range(0,test.shape[0]):\n",
        "  test['NTG'][i] = result[test['Y'][i]-901][test['X'][i]-201]"
      ],
      "execution_count": null,
      "outputs": []
    },
    {
      "cell_type": "markdown",
      "metadata": {
        "id": "-EKSfC2Zfg0B"
      },
      "source": [
        "Визуализируем полученный результат с помощью тепловой карты. "
      ]
    },
    {
      "cell_type": "code",
      "metadata": {
        "colab": {
          "base_uri": "https://localhost:8080/",
          "height": 388
        },
        "id": "HAKT96vFfG8A",
        "outputId": "866ce490-091e-4194-852f-9196893ffaf6"
      },
      "source": [
        "plt.subplots(figsize=(10,6))\n",
        "full_data = pd.concat((train1, test), ignore_index=True)\n",
        "full_data = full_data.pivot(\"Y\", \"X\", \"NTG\")\n",
        "ax = sns.heatmap(full_data, cmap='viridis')\n",
        "ax.invert_yaxis()"
      ],
      "execution_count": null,
      "outputs": [
        {
          "output_type": "display_data",
          "data": {
            "image/png": "[encoded data removed]",
            "text/plain": [
              "<Figure size 720x432 with 2 Axes>"
            ]
          },
          "metadata": {
            "tags": [],
            "needs_background": "light"
          }
        }
      ]
    },
    {
      "cell_type": "markdown",
      "metadata": {
        "id": "zzfazbKLgKvO"
      },
      "source": [
        "Сохранение результата в датасет для проверки на сайте."
      ]
    },
    {
      "cell_type": "code",
      "metadata": {
        "id": "HzogyqRIgQIQ"
      },
      "source": [
        "# test.to_csv('submission2_6.csv', index=False) #Номер сабмита зависит от ковариационной модели и типа кригинга\n",
        "# check = pd.read_csv('submission2_6.csv')"
      ],
      "execution_count": null,
      "outputs": []
    },
    {
      "cell_type": "markdown",
      "metadata": {
        "id": "4XNLbr9diBne"
      },
      "source": [
        "# 4. Генерация новых признаков и использование классических методов"
      ]
    },
    {
      "cell_type": "markdown",
      "metadata": {
        "id": "zaFWpWW_isGo"
      },
      "source": [
        "Исходный датасет содержит только два информативных параметра \"X\" и \"Y\". Так как это координаты, то можно создать дополнительные признаки с расстоянием от всех точек до точки №1 из тренировочного датасета, точки №2 и так далее до №138. Таким образом, получается 138 новых столбцов в датасете. К полученным данным применялись алгоритмы, приведенные ниже:\n",
        "\n",
        "\n",
        "1.   RidgeRegression\n",
        "2.   SVR (kernel='rbf') и SVR (kernel='linear')\n",
        "3.   LGBM\n",
        "4.   RandomForest\n",
        "5.   Lasso (-)\n",
        "6.   ElasticNet (-)\n",
        "\n",
        "(-) Показали наименьшую эффективность и не использовались при получении результата для загрузки на сайт. \n",
        "\n",
        "Далее, для всех следующих моделей в качестве тренировочного датасета будет использоваться датасет с новым набором признаком (X, Y и 138 столбцов с расстояниями)"
      ]
    },
    {
      "cell_type": "markdown",
      "metadata": {
        "id": "FHiU491pkgRE"
      },
      "source": [
        "Подключение библиотек."
      ]
    },
    {
      "cell_type": "code",
      "metadata": {
        "id": "dm6bV-57iFIj"
      },
      "source": [
        "import pandas as pd\n",
        "import numpy as np\n",
        "from sklearn.metrics import mean_squared_error\n",
        "from sklearn.linear_model import Ridge\n",
        "from lightgbm import LGBMRegressor\n",
        "from sklearn.preprocessing import StandardScaler\n",
        "from sklearn.ensemble import RandomForestRegressor\n",
        "from sklearn.svm import SVR\n",
        "from sklearn.metrics import mean_squared_error\n",
        "import matplotlib.pyplot as plt\n",
        "import seaborn as sns"
      ],
      "execution_count": null,
      "outputs": []
    },
    {
      "cell_type": "markdown",
      "metadata": {
        "id": "uoJPInoLkmla"
      },
      "source": [
        "Чтение данных"
      ]
    },
    {
      "cell_type": "code",
      "metadata": {
        "id": "tywAt-ozkk5h"
      },
      "source": [
        "dataset_train = pd.read_csv('Training_wells.csv')\n",
        "dataset_test = pd.read_csv('Empty_part.csv')\n",
        "train = dataset_train.copy()\n",
        "test = dataset_test.copy()\n",
        "check_test = dataset_test.copy()"
      ],
      "execution_count": null,
      "outputs": []
    },
    {
      "cell_type": "markdown",
      "metadata": {
        "id": "IdCkP9aCkt3s"
      },
      "source": [
        "Сгенерируем новые признаки для тренировочного датасета."
      ]
    },
    {
      "cell_type": "code",
      "metadata": {
        "id": "ukbRRcfpkxxc"
      },
      "source": [
        "new_columns = [str(x) for x in range(train.shape[0])]\n",
        "for i in new_columns:\n",
        "  train[i] = np.nan\n",
        "  for j in range(train.shape[0]):\n",
        "    train[i][j] = np.sqrt((train['X'][int(i)]-train['X'][int(j)]) ** 2 + (train['Y'][int(i)]-train['Y'][int(j)]) ** 2)"
      ],
      "execution_count": null,
      "outputs": []
    },
    {
      "cell_type": "markdown",
      "metadata": {
        "id": "TB3QSWjRk3c2"
      },
      "source": [
        "Сгенерируем новые признаки для тестового датасета."
      ]
    },
    {
      "cell_type": "code",
      "metadata": {
        "id": "z2g1Mn6zk6QG"
      },
      "source": [
        "new_columns = [str(x) for x in range(train.shape[0])]\n",
        "for i in new_columns:\n",
        "  test[i] = np.nan\n",
        "  for j in range(test.shape[0]):\n",
        "    test[i][j] = np.sqrt((train['X'][int(i)]-test['X'][int(j)]) ** 2 + (train['Y'][int(i)]-test['Y'][int(j)]) ** 2)"
      ],
      "execution_count": null,
      "outputs": []
    },
    {
      "cell_type": "markdown",
      "metadata": {
        "id": "-Hsr4zHElEfX"
      },
      "source": [
        "Удалим первый признак и разделим тренировочный датасет для обучения модели."
      ]
    },
    {
      "cell_type": "code",
      "metadata": {
        "id": "-PzeaNFkkxRR"
      },
      "source": [
        "train.drop('Well', axis=1, inplace=True)\n",
        "test.drop('Well', axis=1, inplace=True)\n",
        "y = train['NTG']\n",
        "X = train.drop('NTG', axis=1)"
      ],
      "execution_count": null,
      "outputs": []
    },
    {
      "cell_type": "markdown",
      "metadata": {
        "id": "1eijAjzYqi_7"
      },
      "source": [
        "Сохраним датасеты с новыми признаками для ускорения работы последущих скриптов."
      ]
    },
    {
      "cell_type": "code",
      "metadata": {
        "id": "dYwDCHJxqihn"
      },
      "source": [
        "# train.to_csv('Feature_train.csv', index=False)\n",
        "# test.to_csv('Feature_test.csv', index=False)"
      ],
      "execution_count": null,
      "outputs": []
    },
    {
      "cell_type": "markdown",
      "metadata": {
        "id": "JrZdMN0JmFBh"
      },
      "source": [
        "Выполним нормировку данных с помощью StandardScaler() (для чувствительных к отсутствию нормировки моделей)"
      ]
    },
    {
      "cell_type": "code",
      "metadata": {
        "id": "VTT6gZ5gmniZ"
      },
      "source": [
        "# sc_X = StandardScaler()\n",
        "# X = sc_X.fit_transform(X)\n",
        "# test = sc_X.fit_transform(test)"
      ],
      "execution_count": null,
      "outputs": []
    },
    {
      "cell_type": "markdown",
      "metadata": {
        "id": "3aLTBRpklQDi"
      },
      "source": [
        "Создадим и обучим модель, а также выполним предсказание песчанистости для тестового датасета."
      ]
    },
    {
      "cell_type": "code",
      "metadata": {
        "id": "veRrzPfFlOh_"
      },
      "source": [
        "model = Ridge(alpha=0) #Submission7\n",
        "# model = SVR(C=2, degree=2,epsilon=0.001, kernel='rbf') #Submission8\n",
        "# model = LGBMRegressor(n_estimators=500, max_depth=4, num_leaves=7) #Submission9\n",
        "# model = RandomForestRegressor()\n",
        "model.fit(X, y)\n",
        "predict = model.predict(test)"
      ],
      "execution_count": null,
      "outputs": []
    },
    {
      "cell_type": "markdown",
      "metadata": {
        "id": "k4INf7lBlelI"
      },
      "source": [
        "Визуализируем полученные данные с помощью тепловой карты."
      ]
    },
    {
      "cell_type": "code",
      "metadata": {
        "colab": {
          "base_uri": "https://localhost:8080/",
          "height": 388
        },
        "id": "ISofhgzilc17",
        "outputId": "84318cea-35c7-4efb-e5d1-8406609530a7"
      },
      "source": [
        "predict = pd.Series(predict, name='NTG')\n",
        "dataset_test = pd.concat((dataset_test, predict), axis=1)\n",
        "full_data = pd.concat((dataset_train, dataset_test), ignore_index=True)\n",
        "plt.subplots(figsize=(10,6))\n",
        "full_data = full_data.pivot(\"Y\", \"X\", \"NTG\")\n",
        "ax = sns.heatmap(full_data, cmap='viridis')\n",
        "ax.invert_yaxis()"
      ],
      "execution_count": null,
      "outputs": [
        {
          "output_type": "display_data",
          "data": {
            "image/png": "[encoded data removed]",
            "text/plain": [
              "<Figure size 720x432 with 2 Axes>"
            ]
          },
          "metadata": {
            "tags": [],
            "needs_background": "light"
          }
        }
      ]
    },
    {
      "cell_type": "markdown",
      "metadata": {
        "id": "0jRy9zjhloy-"
      },
      "source": [
        "Сохраним результат в файл для загрузки на сайт."
      ]
    },
    {
      "cell_type": "code",
      "metadata": {
        "id": "HEgsjAHtlrv8"
      },
      "source": [
        "# dataset_test.to_csv('submission7.csv', index=False)\n",
        "# check = pd.read_csv('submission7.csv')\n",
        "# print(check)\n",
        "# print(dataset_train)\n",
        "# print(check_test)"
      ],
      "execution_count": null,
      "outputs": []
    },
    {
      "cell_type": "markdown",
      "metadata": {
        "id": "Vzbtqz0nozu9"
      },
      "source": [
        "# 5. Stacking (с помощью мета-модели или модели второго уровня)"
      ]
    },
    {
      "cell_type": "markdown",
      "metadata": {
        "id": "CFspv0Elpd3u"
      },
      "source": [
        "Stacking, в данной секции, заключается в предсказании песчанистости на простых моделях с последующим использованием результатов для получения итоговой песчанистости с помощью модели второго уровня. "
      ]
    },
    {
      "cell_type": "markdown",
      "metadata": {
        "id": "1vzPYCpJqBCu"
      },
      "source": [
        "Подключение библиотек."
      ]
    },
    {
      "cell_type": "code",
      "metadata": {
        "id": "VMFOHrbno2bZ"
      },
      "source": [
        "import pandas as pd\n",
        "import numpy as np\n",
        "from sklearn.ensemble import RandomForestRegressor,  GradientBoostingRegressor\n",
        "from sklearn.neighbors import KNeighborsRegressor\n",
        "from sklearn.ensemble import StackingRegressor\n",
        "from sklearn.preprocessing import StandardScaler"
      ],
      "execution_count": null,
      "outputs": []
    },
    {
      "cell_type": "markdown",
      "metadata": {
        "id": "6qwgMrRpqE8k"
      },
      "source": [
        "Чтение данных (считываем датасеты уже с созданными признаками для экономии времени)"
      ]
    },
    {
      "cell_type": "code",
      "metadata": {
        "id": "esGCIjtWqEUr"
      },
      "source": [
        "dataset_train = pd.read_csv('Feature_train.csv')\n",
        "dataset_test = pd.read_csv('Feature_test.csv')\n",
        "dataset_test_in = pd.read_csv('Empty_part.csv')\n",
        "train = dataset_train.copy()\n",
        "test = dataset_test.copy()\n",
        "check_test = test.copy()"
      ],
      "execution_count": null,
      "outputs": []
    },
    {
      "cell_type": "markdown",
      "metadata": {
        "id": "0ZJECr5lrryi"
      },
      "source": [
        "Разделим тренировочный датасет на признаки и таргет"
      ]
    },
    {
      "cell_type": "code",
      "metadata": {
        "id": "vDGW01jIrmUE"
      },
      "source": [
        "y = train['NTG']\n",
        "X = train.drop('NTG', axis=1)"
      ],
      "execution_count": null,
      "outputs": []
    },
    {
      "cell_type": "markdown",
      "metadata": {
        "id": "r-e-P1DGrxbg"
      },
      "source": [
        "Нормировка данных"
      ]
    },
    {
      "cell_type": "code",
      "metadata": {
        "id": "IhmiV61kry8T"
      },
      "source": [
        "scaler = StandardScaler()\n",
        "scaler.fit_transform(X)"
      ],
      "execution_count": null,
      "outputs": []
    },
    {
      "cell_type": "markdown",
      "metadata": {
        "id": "6Ko9Id9fr3Pg"
      },
      "source": [
        "Модели первого уровня."
      ]
    },
    {
      "cell_type": "code",
      "metadata": {
        "id": "TGNdj7Pxr5wn"
      },
      "source": [
        "KRR = Ridge()\n",
        "KNR = KNeighborsRegressor(weights = 'distance', n_neighbors=4)\n",
        "GBoost = GradientBoostingRegressor(n_estimators=500, max_depth=4)\n",
        "\n",
        "estimators = [\n",
        "              ('ridge', KRR),\n",
        "              ('GBoost', GBoost),\n",
        "              ('KNR', KNR)]"
      ],
      "execution_count": null,
      "outputs": []
    },
    {
      "cell_type": "markdown",
      "metadata": {
        "id": "51jBEQzktSw0"
      },
      "source": [
        "Модель второго уровня."
      ]
    },
    {
      "cell_type": "code",
      "metadata": {
        "id": "wIvLP_q-tUoL"
      },
      "source": [
        "final_estimator = RandomForestRegressor(n_estimators=300, max_depth=4) #Submission11\n",
        "# final_estimator = RandomForestRegressor(n_estimators=50, max_depth=3) #Submission12"
      ],
      "execution_count": null,
      "outputs": []
    },
    {
      "cell_type": "markdown",
      "metadata": {
        "id": "N2SHGvDJswPd"
      },
      "source": [
        "Stacking с помощью модели второго уровня."
      ]
    },
    {
      "cell_type": "code",
      "metadata": {
        "id": "V_9S0rmNrzYH"
      },
      "source": [
        "model = StackingRegressor(estimators=estimators, \n",
        "                          final_estimator=final_estimator, \n",
        "                          cv=11)\n",
        "model.fit(X, y)\n",
        "scaler.transform(test)\n",
        "predict = model.predict(test)\n"
      ],
      "execution_count": null,
      "outputs": []
    },
    {
      "cell_type": "markdown",
      "metadata": {
        "id": "XeC65VpRt9z-"
      },
      "source": [
        "Визуализация результата работы двухуровневой модели."
      ]
    },
    {
      "cell_type": "code",
      "metadata": {
        "colab": {
          "base_uri": "https://localhost:8080/",
          "height": 388
        },
        "id": "RSHgyeTAs5b9",
        "outputId": "dc9aca5e-4b80-482d-9112-6758c7fbd5c0"
      },
      "source": [
        "predict = pd.Series(predict, name='NTG')\n",
        "dataset_test_in = pd.concat((dataset_test_in, predict), axis=1)\n",
        "full_data = pd.concat((dataset_train, dataset_test_in), ignore_index=True)\n",
        "plt.subplots(figsize=(10,6))\n",
        "full_data = full_data.pivot(\"Y\", \"X\", \"NTG\")\n",
        "ax = sns.heatmap(full_data, cmap='viridis')\n",
        "ax.invert_yaxis()"
      ],
      "execution_count": null,
      "outputs": [
        {
          "output_type": "display_data",
          "data": {
            "image/png": "[encoded data removed]",
            "text/plain": [
              "<Figure size 720x432 with 2 Axes>"
            ]
          },
          "metadata": {
            "tags": [],
            "needs_background": "light"
          }
        }
      ]
    },
    {
      "cell_type": "markdown",
      "metadata": {
        "id": "PmoBafl0uhFS"
      },
      "source": [
        "# Регрессионный кригинг"
      ]
    },
    {
      "cell_type": "markdown",
      "metadata": {
        "id": "NlLfQba2ulcn"
      },
      "source": [
        "Также реализован с помощью пакета PyKrige."
      ]
    },
    {
      "cell_type": "markdown",
      "metadata": {
        "id": "DE4MCzUtu1gx"
      },
      "source": [
        "Подключение библиотек."
      ]
    },
    {
      "cell_type": "code",
      "metadata": {
        "id": "CkcFPDSXuj35"
      },
      "source": [
        "import pandas as pd\n",
        "import numpy as np\n",
        "from sklearn.svm import SVR\n",
        "import matplotlib.pyplot as plt\n",
        "from pykrige.rk import RegressionKriging\n",
        "from sklearn.linear_model import Ridge\n",
        "import seaborn as sns\n",
        "from pykrige.compat import train_test_split"
      ],
      "execution_count": null,
      "outputs": []
    },
    {
      "cell_type": "markdown",
      "metadata": {
        "id": "ztC6y2ZxvKy4"
      },
      "source": [
        "Чтение данных."
      ]
    },
    {
      "cell_type": "code",
      "metadata": {
        "id": "aXDge8vTu44I"
      },
      "source": [
        "dataset_train = pd.read_csv('Feature_train.csv')\n",
        "dataset_test = pd.read_csv('Feature_test.csv')\n",
        "dataset_test_in = pd.read_csv('Empty_part.csv')\n",
        "train = dataset_train.copy()\n",
        "test = dataset_test.copy()\n",
        "check_test = test.copy()"
      ],
      "execution_count": null,
      "outputs": []
    },
    {
      "cell_type": "markdown",
      "metadata": {
        "id": "3OO9Sn8DvPwQ"
      },
      "source": [
        "Разделение тренировочного датасета на признаки и целевую переменную."
      ]
    },
    {
      "cell_type": "code",
      "metadata": {
        "id": "mjfC5Oh_vThl"
      },
      "source": [
        "y = train['NTG']\n",
        "X = train.drop('NTG', axis=1)"
      ],
      "execution_count": null,
      "outputs": []
    },
    {
      "cell_type": "markdown",
      "metadata": {
        "id": "nAv9lGTzvsFR"
      },
      "source": [
        "Зададим массивы входных данных для модели."
      ]
    },
    {
      "cell_type": "code",
      "metadata": {
        "id": "OQiUqa8Pvxq0"
      },
      "source": [
        "x = np.float64(np.array(X.iloc[:, :2]))\n",
        "p = np.float64(np.array(X.iloc[:,2:]))\n",
        "target = np.float64(np.array(y))\n",
        "\n",
        "real_x = np.float64(np.array(test.iloc[:, :2]))\n",
        "real_p = np.float64(np.array(test.iloc[:,2:]))"
      ],
      "execution_count": null,
      "outputs": []
    },
    {
      "cell_type": "markdown",
      "metadata": {
        "id": "T5xcCnRLvZXJ"
      },
      "source": [
        "Создание модели регрессионного кригинга с помощью SVR."
      ]
    },
    {
      "cell_type": "code",
      "metadata": {
        "id": "EqMXxR4MveTo"
      },
      "source": [
        "# model = SVR(C=2, epsilon=0.001, kernel='rbf') #Submission13\n",
        "# model = LGBMRegressor(n_estimators=200, max_depth=2, num_leaves=2) #Submission14\n",
        "# model = RandomForestRegressor() #Submission17\n",
        "model = Ridge(alpha=3) #Submission15\n",
        "model2 = RegressionKriging(regression_model=model,\n",
        "                            n_closest_points=3)\n",
        "model2.fit(p, x, y)\n",
        "predict = model2.predict(real_p, real_x)"
      ],
      "execution_count": null,
      "outputs": []
    },
    {
      "cell_type": "markdown",
      "metadata": {
        "id": "3GJzC1ebvgnL"
      },
      "source": [
        "Визуализация результата."
      ]
    },
    {
      "cell_type": "code",
      "metadata": {
        "colab": {
          "base_uri": "https://localhost:8080/",
          "height": 388
        },
        "id": "c2BA6yDyvVRr",
        "outputId": "7a12a5e4-ad01-4eee-c3bd-90048b77fb88"
      },
      "source": [
        "predict = pd.Series(predict, name='NTG')\n",
        "dataset_test_in = pd.concat((dataset_test_in, predict), axis=1)\n",
        "full_data = pd.concat((dataset_train, dataset_test_in), ignore_index=True)\n",
        "plt.subplots(figsize=(10,6))\n",
        "full_data = full_data.pivot(\"Y\", \"X\", \"NTG\")\n",
        "ax = sns.heatmap(full_data, cmap='viridis')\n",
        "ax.invert_yaxis()"
      ],
      "execution_count": null,
      "outputs": [
        {
          "output_type": "display_data",
          "data": {
            "image/png": "[encoded data removed]",
            "text/plain": [
              "<Figure size 720x432 with 2 Axes>"
            ]
          },
          "metadata": {
            "tags": [],
            "needs_background": "light"
          }
        }
      ]
    },
    {
      "cell_type": "markdown",
      "metadata": {
        "id": "Qri8SEg-w5ut"
      },
      "source": [
        "Сохранение датасета для проверки на сайте."
      ]
    },
    {
      "cell_type": "code",
      "metadata": {
        "id": "lLRhnk7JvnP8"
      },
      "source": [
        "# dataset_test_in.to_csv('submission15.csv', index=False)\n",
        "# check = pd.read_csv('submission15.csv')\n",
        "# print(check.head())\n",
        "# print(dataset_test_in.head())\n",
        "# tt = pd.read_csv('Training_wells.csv')\n",
        "# print(tt.head())"
      ],
      "execution_count": null,
      "outputs": []
    },
    {
      "cell_type": "markdown",
      "metadata": {
        "id": "A6-im-C4xIOY"
      },
      "source": [
        "# Простейший Stacking (усреднение результатов различных моделей)"
      ]
    },
    {
      "cell_type": "markdown",
      "metadata": {
        "id": "Hy2mWj63xNkb"
      },
      "source": [
        "Производится усреднение результатов предсказаний различных моделей. "
      ]
    },
    {
      "cell_type": "markdown",
      "metadata": {
        "id": "Aiu9NlqpHmIJ"
      },
      "source": [
        "Для усреднения из предыдущих результатов (файлов submission 1-15,17) берется целевой столбец и усредняется по количеству выбранных моделей (для некоторых моделей были выбраны весовые коэффициенты). \n",
        "Так получены результаты для попыток номер 16,18,20."
      ]
    },
    {
      "cell_type": "markdown",
      "metadata": {
        "id": "qGhhW0hHJggG"
      },
      "source": [
        "В качестве попытки номер 16 был загружен результат усреднения моделей Kriging (cov_model = gs.Spherical)(submission4), Ridge Regression (submission7), SVR (submission8), RegressionKriging с SVR (submission13)"
      ]
    },
    {
      "cell_type": "markdown",
      "metadata": {
        "id": "7mFCsdAFJW5T"
      },
      "source": [
        "В качестве попытки номер 18 был загружен результат усреднения моделей Ridge Regression (submission7), Kriging (cov_model Gaussian)(submission5), RegressionKriging с Ridge (submission15), RegressionKriging с SVR (submission13) и RegressionKriging с LGBMRegressor (submission14). "
      ]
    },
    {
      "cell_type": "markdown",
      "metadata": {
        "id": "7gh6oXbaLRLO"
      },
      "source": [
        "В качестве попытки номер 20 был загружен результат усреднения моделей Kriging (cov_model Gaussian)(submission5) и результат усреднения (submission16)"
      ]
    }
  ]
}